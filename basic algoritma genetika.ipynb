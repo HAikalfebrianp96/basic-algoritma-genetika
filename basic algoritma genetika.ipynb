{
  "nbformat": 4,
  "nbformat_minor": 0,
  "metadata": {
    "colab": {
      "name": "fotolio.ipynb",
      "provenance": []
    },
    "kernelspec": {
      "name": "python3",
      "display_name": "Python 3"
    },
    "language_info": {
      "name": "python"
    }
  },
  "cells": [
    {
      "cell_type": "code",
      "execution_count": 1,
      "metadata": {
        "id": "E2p-DEQK2UI9"
      },
      "outputs": [],
      "source": [
        "import numpy as np\n",
        "import pandas as pd\n",
        "import random as rd\n",
        "from random import randint"
      ]
    },
    {
      "cell_type": "code",
      "source": [
        "item_number = np.arange(1,11)\n",
        " \n",
        "weight = (5,7,9,4,1,6,2,8,3,10)\n",
        "priority_value = (70,10,100,40,50,90,20,80,60,30)\n",
        " \n",
        "print('The list is as follows:')\n",
        "print('Item No. weight priority value')\n",
        "for i in range(item_number.shape[0]):\n",
        "    print('{0}     {1}     {2}\\n'.format(item_number[i], weight[i], priority_value[i]))\n",
        " \n",
        " \n",
        "print(\"Enter desired number of chromosomes : \")\n",
        "number_chromosome = int(input())\n",
        "print(\"\\n\\n\")\n",
        "pop_number = (number_chromosome, item_number.shape[0])\n",
        "print('population number = {}'.format(pop_number))\n",
        "print(\"\\n\\n\")\n",
        "initial_population = np.random.randint(2, size = pop_number)\n",
        "initial_population = initial_population.astype(int)\n",
        "print(\"Enter Maximum Number of Generations Desired : \")\n",
        "num_generations = int(input())\n",
        "print(\"\\n\\n\")\n",
        " \n",
        "print(\"Enter the maximum number of items that can be carried: \")\n",
        "max_item = int(input())\n",
        "print(\"\\n\\n\")\n",
        " \n",
        "print(\"Enter Crossover Rate : \")\n",
        "pc_value = float(input())\n",
        "print(\" \\n\\n\")\n",
        " \n",
        "print(\"Enter Mutation Rate : \")\n",
        "pm_value = float(input())\n",
        "print(\"\\n\\n\")\n",
        " \n",
        "print('Initial population: \\n{}'.format(initial_population))"
      ],
      "metadata": {
        "colab": {
          "base_uri": "https://localhost:8080/"
        },
        "id": "Te_QC5Nq2ae2",
        "outputId": "2d936c10-712a-4127-f671-3dc98b34ca2a"
      },
      "execution_count": 2,
      "outputs": [
        {
          "output_type": "stream",
          "name": "stdout",
          "text": [
            "The list is as follows:\n",
            "Item No. weight priority value\n",
            "1     5     70\n",
            "\n",
            "2     7     10\n",
            "\n",
            "3     9     100\n",
            "\n",
            "4     4     40\n",
            "\n",
            "5     1     50\n",
            "\n",
            "6     6     90\n",
            "\n",
            "7     2     20\n",
            "\n",
            "8     8     80\n",
            "\n",
            "9     3     60\n",
            "\n",
            "10     10     30\n",
            "\n",
            "Enter desired number of chromosomes : \n",
            "6\n",
            "\n",
            "\n",
            "\n",
            "population number = (6, 10)\n",
            "\n",
            "\n",
            "\n",
            "Enter Maximum Number of Generations Desired : \n",
            "10\n",
            "\n",
            "\n",
            "\n",
            "Enter the maximum number of items that can be carried: \n",
            "35\n",
            "\n",
            "\n",
            "\n",
            "Enter Crossover Rate : \n",
            "0.5\n",
            " \n",
            "\n",
            "\n",
            "Enter Mutation Rate : \n",
            "0.4\n",
            "\n",
            "\n",
            "\n",
            "Initial population: \n",
            "[[1 1 0 0 1 0 1 0 0 1]\n",
            " [0 0 0 0 0 0 1 1 1 1]\n",
            " [1 1 1 1 1 0 1 1 1 0]\n",
            " [1 1 1 1 0 0 1 0 1 0]\n",
            " [1 0 0 1 1 0 1 0 1 0]\n",
            " [1 0 0 0 0 0 1 1 1 0]]\n"
          ]
        }
      ]
    },
    {
      "cell_type": "code",
      "source": [
        "def cal_fitness(weight, priority_value, population, threshold):\n",
        "    fitness = np.empty(population.shape[0])\n",
        "    for i in range(population.shape[0]):\n",
        "        S1 = np.sum(population[i] * priority_value)\n",
        "        S2 = np.sum(population[i] * weight)\n",
        "        if S2 <= threshold:\n",
        "            fitness[i] = S1\n",
        "        else :\n",
        "            fitness[i] = 0 \n",
        "    return fitness.astype(int) "
      ],
      "metadata": {
        "id": "CpT9KSPP4TBm"
      },
      "execution_count": 10,
      "outputs": []
    },
    {
      "cell_type": "code",
      "source": [
        "print('First fitness : \\n{}\\n'.format(cal_fitness(weight, priority_value, initial_population, max_item)))"
      ],
      "metadata": {
        "colab": {
          "base_uri": "https://localhost:8080/"
        },
        "id": "fexBH3yP4xy6",
        "outputId": "0f3f3aa8-1047-4f5c-d868-0c25f326ff32"
      },
      "execution_count": 4,
      "outputs": [
        {
          "output_type": "stream",
          "name": "stdout",
          "text": [
            "First fitness : \n",
            "[180 190   0 300 240 230]\n",
            "\n"
          ]
        }
      ]
    },
    {
      "cell_type": "code",
      "source": [
        "def selection(fitness, num_parents, population):\n",
        "    fitness = list(fitness)\n",
        "    parents = np.empty((num_parents, population.shape[1]))\n",
        "    for i in range(num_parents):\n",
        "        max_fitness_idx = np.where(fitness == np.max(fitness))\n",
        "        parents[i,:] = population[max_fitness_idx[0][0], :]\n",
        "        fitness[max_fitness_idx[0][0]] = -999999\n",
        "    return parents"
      ],
      "metadata": {
        "id": "VBmdRUob6a6S"
      },
      "execution_count": 11,
      "outputs": []
    },
    {
      "cell_type": "code",
      "source": [
        " \n",
        "def crossover(parents, num_offsprings):\n",
        "    offsprings = np.empty((num_offsprings, parents.shape[1]))\n",
        "    crossover_point = int(parents.shape[1]/2)\n",
        "    crossover_rate = pc_value\n",
        "    i=0\n",
        "    while (parents.shape[0] < num_offsprings):\n",
        "        parent1_index = i%parents.shape[0]\n",
        "        parent2_index = (i+1)%parents.shape[0]\n",
        "        x = rd.random()\n",
        "        if x > crossover_rate:\n",
        "            continue\n",
        "        parent1_index = i%parents.shape[0]\n",
        "        parent2_index = (i+1)%parents.shape[0]\n",
        "        offsprings[i,0:crossover_point] = parents[parent1_index,0:crossover_point]\n",
        "        offsprings[i,crossover_point:] = parents[parent2_index,crossover_point:]\n",
        "        i=+1\n",
        "    return offsprings   "
      ],
      "metadata": {
        "id": "AG7lefQU6iGD"
      },
      "execution_count": 12,
      "outputs": []
    },
    {
      "cell_type": "code",
      "source": [
        "def mutation(offsprings):\n",
        "    mutants = np.empty((offsprings.shape))\n",
        "    mutation_rate = pm_value\n",
        "    for i in range(mutants.shape[0]):\n",
        "        random_value_priority = rd.random()\n",
        "        mutants[i,:] = offsprings[i,:]\n",
        "        if random_value_priority > mutation_rate:\n",
        "            continue\n",
        "        int_random_value_prioritas = randint(0,offsprings.shape[1]-1)    \n",
        "        if mutants[i,int_random_value_prioritas] == 0 :\n",
        "            mutants[i,int_random_value_prioritas] = 1\n",
        "        else :\n",
        "            mutants[i,int_random_value_prioritas] = 0\n",
        "    return mutants"
      ],
      "metadata": {
        "id": "CFAqp7zA6jfT"
      },
      "execution_count": 13,
      "outputs": []
    },
    {
      "cell_type": "code",
      "source": [
        "def optimize(weight, priority_value, population, pop_number, num_generations, threshold):\n",
        "    parameters, fitness_history = [], []\n",
        "    num_parents = int(pop_number[0]/2)\n",
        "    num_offsprings = pop_number[0] - num_parents \n",
        "    for i in range(num_generations):\n",
        "        fitness = cal_fitness(weight, priority_value, population, threshold)\n",
        "        fitness_history.append(fitness)\n",
        "        parents = selection(fitness, num_parents, population)\n",
        "        offsprings = crossover(parents, num_offsprings)\n",
        "        mutants = mutation(offsprings)\n",
        "        population[0:parents.shape[0], :] = parents\n",
        "        population[parents.shape[0]:, :] = mutants\n",
        "        \n",
        "    print('Last generation: \\n{}\\n'.format(population)) \n",
        "    fitness_last_gen = cal_fitness(weight, priority_value, population, threshold)      \n",
        "    print('Fitness of the last generation: \\n{}\\n'.format(fitness_last_gen))\n",
        "    max_fitness = np.where(fitness_last_gen == np.max(fitness_last_gen))\n",
        "    parameters.append(population[max_fitness[0][0] ,:])\n",
        "    return parameters, fitness_history"
      ],
      "metadata": {
        "id": "C7XFK1da8Dm1"
      },
      "execution_count": 14,
      "outputs": []
    },
    {
      "cell_type": "code",
      "source": [
        "parameters, fitness_history = optimize(weight, priority_value, initial_population, pop_number, num_generations, max_item)\n",
        "print('Theoptimized parameters for the given input are: \\n{}'.format(parameters))\n",
        "selected_items = item_number * parameters\n",
        "print('\\nItems to be brought and put in the bag ::')\n",
        "for i in range(selected_items.shape[1]):\n",
        "  if selected_items[0][i] != 0:\n",
        "     print('{}\\n'.format(selected_items[0][i]))\n"
      ],
      "metadata": {
        "id": "NLeKv1g38HI4",
        "colab": {
          "base_uri": "https://localhost:8080/"
        },
        "outputId": "8eac8060-40ab-4432-ee23-fc0acddd8efb"
      },
      "execution_count": 17,
      "outputs": [
        {
          "output_type": "stream",
          "name": "stdout",
          "text": [
            "Last generation: \n",
            "[[1 0 1 1 1 1 1 0 1 0]\n",
            " [1 0 1 1 1 1 1 0 1 0]\n",
            " [1 0 1 1 1 1 1 0 1 0]\n",
            " [1 0 1 1 0 1 1 0 1 0]\n",
            " [1 0 1 1 1 1 1 0 1 0]\n",
            " [1 0 1 1 1 1 1 0 1 0]]\n",
            "\n",
            "Fitness of the last generation: \n",
            "[430 430 430 380 430 430]\n",
            "\n",
            "Theoptimized parameters for the given input are: \n",
            "[array([1, 0, 1, 1, 1, 1, 1, 0, 1, 0])]\n",
            "\n",
            "Items to be brought and put in the bag ::\n",
            "1\n",
            "\n",
            "3\n",
            "\n",
            "4\n",
            "\n",
            "5\n",
            "\n",
            "6\n",
            "\n",
            "7\n",
            "\n",
            "9\n",
            "\n"
          ]
        }
      ]
    }
  ]
}